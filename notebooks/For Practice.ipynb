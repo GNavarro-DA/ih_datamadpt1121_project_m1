{
 "cells": [
  {
   "cell_type": "markdown",
   "id": "2bad854e",
   "metadata": {},
   "source": [
    "### EXTRAS\n",
    "* (DONE) Build the Google Maps URL \n",
    "* (DONE) FuzzyWuzzy\n",
    "* Conection to new database of pharmacies\n",
    "* (DONE) Time walking\n",
    "* Create APP\n",
    "* Real-time connection : https://apidocs.emtmadrid.es/#api-Block_4_TRANSPORT_BICIMAD"
   ]
  },
  {
   "cell_type": "markdown",
   "id": "6ba297c7",
   "metadata": {},
   "source": [
    "#### GOOGLE MAPS URL: "
   ]
  },
  {
   "cell_type": "code",
   "execution_count": null,
   "id": "bb54d72f",
   "metadata": {},
   "outputs": [],
   "source": [
    "import urllib.parse\n",
    "import math\n",
    "import pandas as pd"
   ]
  },
  {
   "cell_type": "code",
   "execution_count": null,
   "id": "5de30f22",
   "metadata": {},
   "outputs": [],
   "source": [
    "string = 'Calle Santa Hortensia nº 31'\n",
    "url_encoded = urllib.parse.quote(string)"
   ]
  },
  {
   "cell_type": "code",
   "execution_count": null,
   "id": "a6daac65",
   "metadata": {},
   "outputs": [],
   "source": [
    "url = 'https://www.google.com/maps/place/' + url_encoded + 'MADRID'"
   ]
  },
  {
   "cell_type": "code",
   "execution_count": null,
   "id": "019af397",
   "metadata": {},
   "outputs": [],
   "source": [
    "url"
   ]
  },
  {
   "cell_type": "markdown",
   "id": "0aea0710",
   "metadata": {},
   "source": [
    "#### Time Walking calculation"
   ]
  },
  {
   "cell_type": "code",
   "execution_count": null,
   "id": "d84d2888",
   "metadata": {},
   "outputs": [],
   "source": [
    "distance= 435.8\n",
    "\n",
    "def time_walking(x):\n",
    "    avg_time = (x*60)/5000\n",
    "    return avg_time\n"
   ]
  },
  {
   "cell_type": "code",
   "execution_count": null,
   "id": "7ab08ba7",
   "metadata": {},
   "outputs": [],
   "source": [
    "math.ceil(time_walking(distance))"
   ]
  },
  {
   "cell_type": "markdown",
   "id": "3b283d52",
   "metadata": {},
   "source": [
    "#### FUZZYWUZZY"
   ]
  },
  {
   "cell_type": "code",
   "execution_count": null,
   "id": "288bed1c",
   "metadata": {},
   "outputs": [],
   "source": [
    "from fuzzywuzzy import fuzz"
   ]
  },
  {
   "cell_type": "code",
   "execution_count": null,
   "id": "4612b3e1",
   "metadata": {},
   "outputs": [],
   "source": [
    "fuzz.ratio('Calle Sinesio Delgado nº 2', 'Sinesio Delgado 2')"
   ]
  },
  {
   "cell_type": "code",
   "execution_count": null,
   "id": "ecfa3f31",
   "metadata": {},
   "outputs": [],
   "source": [
    "real_address = 'Calle Sinesio Delgado nº 2'"
   ]
  },
  {
   "cell_type": "code",
   "execution_count": null,
   "id": "f2a3263f",
   "metadata": {},
   "outputs": [],
   "source": [
    "imputed_address = input('Addess: ')"
   ]
  },
  {
   "cell_type": "code",
   "execution_count": null,
   "id": "e256f621",
   "metadata": {},
   "outputs": [],
   "source": [
    "if fuzz.token_set_ratio(real_address,imputed_address) > 90:\n",
    "    print('matched')\n",
    "else:\n",
    "    print(fuzz.token_set_ratio(real_address, imputed_address))\n",
    "    print('not matched')"
   ]
  },
  {
   "cell_type": "markdown",
   "id": "6098ca23",
   "metadata": {},
   "source": [
    "#### Conection to other API: Pharmacies."
   ]
  },
  {
   "cell_type": "code",
   "execution_count": null,
   "id": "00dc40a9",
   "metadata": {},
   "outputs": [],
   "source": [
    "df_pharma = pd.read_excel('../data/turnosmadrid_guardia_2022.xlsx')\n",
    "df_pharma = df_pharma.rename(columns={'Localidad':'Locality', 'Barrio': 'Neighbourhood', 'Fecha':'Date', 'Farmacia':'Pharma ID','Direccion':'Address','Duración':'Duration','Teléfono':'Phone'})"
   ]
  },
  {
   "cell_type": "code",
   "execution_count": null,
   "id": "98b2ef6f",
   "metadata": {},
   "outputs": [],
   "source": [
    "from datetime import date\n",
    "\n",
    "today = [date.today()]\n",
    "print(\"Today's date:\", today)"
   ]
  },
  {
   "cell_type": "code",
   "execution_count": null,
   "id": "7ad5300d",
   "metadata": {},
   "outputs": [],
   "source": [
    "def row_filter(df, cat_var, cat_values):\n",
    "    df = df[df[cat_var].isin(cat_values)]\n",
    "    return df.reset_index(drop=True)"
   ]
  },
  {
   "cell_type": "code",
   "execution_count": null,
   "id": "73e6a135",
   "metadata": {},
   "outputs": [],
   "source": [
    "todays_pharma = row_filter(df_pharma, 'Date', today)"
   ]
  },
  {
   "cell_type": "code",
   "execution_count": null,
   "id": "969ff718",
   "metadata": {},
   "outputs": [],
   "source": [
    "todays_pharma.head()"
   ]
  },
  {
   "cell_type": "code",
   "execution_count": null,
   "id": "eaf55dae",
   "metadata": {},
   "outputs": [],
   "source": [
    "def address_match(imputed_address, saved_address):\n",
    "    ratio = fuzz.token_set_ratio(imputed_address,saved_address)\n",
    "    return ratio"
   ]
  },
  {
   "cell_type": "code",
   "execution_count": null,
   "id": "3d75d1d2",
   "metadata": {},
   "outputs": [],
   "source": [
    "imputed_address = input('Bikes Address: ')"
   ]
  },
  {
   "cell_type": "code",
   "execution_count": null,
   "id": "2febc735",
   "metadata": {},
   "outputs": [],
   "source": [
    "df_pharma['Address Match Ratio'] = df_pharma.apply(lambda x: address_match(imputed_address, x['Address']), axis=1)"
   ]
  },
  {
   "cell_type": "code",
   "execution_count": null,
   "id": "4675a940",
   "metadata": {},
   "outputs": [],
   "source": [
    "#df_pharma.sort_values(by=['Address Match Ratio'], ascending=False)\n",
    "#This does not match at all. May be I can use Google Maps URL near by. "
   ]
  },
  {
   "cell_type": "markdown",
   "id": "bf88a9c4",
   "metadata": {},
   "source": [
    "#### Tkinter"
   ]
  },
  {
   "cell_type": "code",
   "execution_count": 1,
   "id": "c91bcf70",
   "metadata": {},
   "outputs": [],
   "source": [
    "from tkinter import *\n",
    "from PIL import ImageTk, Image"
   ]
  },
  {
   "cell_type": "code",
   "execution_count": 12,
   "id": "a4b5d21c",
   "metadata": {},
   "outputs": [],
   "source": [
    "root = Tk()\n",
    "root.title('WIMBA: Where Is My Bike App')\n",
    "description_message = \"\\n\" + \"Welcome to WIMBA, the perfect APP if you want to find the nearest BiciMAD station!\" + \"\\n\\n\" + \"Please, choose an option: \" + \"\\n\\n\" + \"Single Search: This will allow you to find nearest BiciMAD stations to one place of interest\" + \"\\n\"  + \"All : This will allow you to find the nearest BiciMAD station to each place of interest\" + \"\\n\"\n",
    "description = Label(root, text= description_message).pack()\n",
    "\n",
    "def single():\n",
    "    new_window = Toplevel()\n",
    "    e = Entry(new_window, bg=\"skyblue\", borderwidth=0.5)\n",
    "    e.pack()\n",
    "    e.insert(0,'Enter your place')\n",
    "    def submmit():\n",
    "        newLabel = Label(new_window, text= \"Your selected place is \" + e.get())\n",
    "        newLabel.pack()\n",
    "    submmit_button = Button(new_window, text=\" Confirm your place \", command=submmit).pack()\n",
    "    return\n",
    "\n",
    "def all_search():\n",
    "    new_window_2 = Toplevel()\n",
    "    newLabel2 = Label(new_window_2, text=\"Please, wait a few seconds\")\n",
    "    newLabel2.pack()\n",
    "    return\n",
    "\n",
    "single_button = Button(root, text=\" Single Search \", command=single)\n",
    "single_button.pack()\n",
    "all_button = Button(root, text = \" All \", command=all_search)\n",
    "all_button.pack()\n",
    "\n",
    "my_img = ImageTk.PhotoImage(Image.open(\"../pictures/bicimad.jpg\"))\n",
    "my_lable = Label(root, image=my_img).pack()\n",
    "\n",
    "\n",
    "root.mainloop()"
   ]
  },
  {
   "cell_type": "code",
   "execution_count": null,
   "id": "e3169ab5",
   "metadata": {},
   "outputs": [],
   "source": []
  }
 ],
 "metadata": {
  "kernelspec": {
   "display_name": "Python [conda env:project1]",
   "language": "python",
   "name": "conda-env-project1-py"
  },
  "language_info": {
   "codemirror_mode": {
    "name": "ipython",
    "version": 3
   },
   "file_extension": ".py",
   "mimetype": "text/x-python",
   "name": "python",
   "nbconvert_exporter": "python",
   "pygments_lexer": "ipython3",
   "version": "3.7.11"
  }
 },
 "nbformat": 4,
 "nbformat_minor": 5
}
