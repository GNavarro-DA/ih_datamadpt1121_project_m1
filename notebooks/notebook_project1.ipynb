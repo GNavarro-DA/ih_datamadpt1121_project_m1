{
 "cells": [
  {
   "cell_type": "markdown",
   "id": "bd7123a1",
   "metadata": {},
   "source": [
    "### PROJECT 1 IRONHACK\n",
    "#### Dataset asigned: Sedes. Centros de Atención Médica\n",
    "\n",
    "URL: https://datos.madrid.es/egob/catalogo/212769-0-atencion-medica.json\n"
   ]
  },
  {
   "cell_type": "code",
   "execution_count": null,
   "id": "aefa5cd8",
   "metadata": {},
   "outputs": [],
   "source": []
  }
 ],
 "metadata": {
  "kernelspec": {
   "display_name": "Python [conda env:ironhack]",
   "language": "python",
   "name": "conda-env-ironhack-py"
  },
  "language_info": {
   "codemirror_mode": {
    "name": "ipython",
    "version": 3
   },
   "file_extension": ".py",
   "mimetype": "text/x-python",
   "name": "python",
   "nbconvert_exporter": "python",
   "pygments_lexer": "ipython3",
   "version": "3.7.11"
  }
 },
 "nbformat": 4,
 "nbformat_minor": 5
}
