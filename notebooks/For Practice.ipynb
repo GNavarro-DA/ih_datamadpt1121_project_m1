{
 "cells": [
  {
   "cell_type": "markdown",
   "id": "2bad854e",
   "metadata": {},
   "source": [
    "### EXTRAS\n",
    "* (DONE) Build the Google Maps URL \n",
    "* (DONE) FuzzyWuzzy\n",
    "* Conection to new database of pharmacies\n",
    "* (DONE) Time walking\n",
    "* Create APP\n",
    "* Real-time connection : https://apidocs.emtmadrid.es/#api-Block_4_TRANSPORT_BICIMAD"
   ]
  },
  {
   "cell_type": "markdown",
   "id": "6ba297c7",
   "metadata": {},
   "source": [
    "#### GOOGLE MAPS URL: "
   ]
  },
  {
   "cell_type": "code",
   "execution_count": 57,
   "id": "bb54d72f",
   "metadata": {},
   "outputs": [],
   "source": [
    "import urllib.parse\n",
    "import math\n",
    "import pandas as pd"
   ]
  },
  {
   "cell_type": "code",
   "execution_count": 63,
   "id": "5de30f22",
   "metadata": {},
   "outputs": [],
   "source": [
    "string = 'Calle Santa Hortensia nº 31'\n",
    "url_encoded = urllib.parse.quote(string)"
   ]
  },
  {
   "cell_type": "code",
   "execution_count": 64,
   "id": "a6daac65",
   "metadata": {},
   "outputs": [],
   "source": [
    "url = 'https://www.google.com/maps/place/' + url_encoded + 'MADRID'"
   ]
  },
  {
   "cell_type": "code",
   "execution_count": 65,
   "id": "019af397",
   "metadata": {},
   "outputs": [
    {
     "data": {
      "text/plain": [
       "'https://www.google.com/maps/place/Calle%20Santa%20Hortensia%20n%C2%BA%2031MADRID'"
      ]
     },
     "execution_count": 65,
     "metadata": {},
     "output_type": "execute_result"
    }
   ],
   "source": [
    "url"
   ]
  },
  {
   "cell_type": "markdown",
   "id": "0aea0710",
   "metadata": {},
   "source": [
    "#### Time Walking calculation"
   ]
  },
  {
   "cell_type": "code",
   "execution_count": 9,
   "id": "d84d2888",
   "metadata": {},
   "outputs": [],
   "source": [
    "distance= 435.8\n",
    "\n",
    "def time_walking(x):\n",
    "    avg_time = (x*60)/5000\n",
    "    return avg_time\n"
   ]
  },
  {
   "cell_type": "code",
   "execution_count": 14,
   "id": "7ab08ba7",
   "metadata": {},
   "outputs": [
    {
     "data": {
      "text/plain": [
       "6"
      ]
     },
     "execution_count": 14,
     "metadata": {},
     "output_type": "execute_result"
    }
   ],
   "source": [
    "math.ceil(time_walking(distance))"
   ]
  },
  {
   "cell_type": "markdown",
   "id": "3b283d52",
   "metadata": {},
   "source": [
    "#### FUZZYWUZZY"
   ]
  },
  {
   "cell_type": "code",
   "execution_count": 21,
   "id": "288bed1c",
   "metadata": {},
   "outputs": [],
   "source": [
    "from fuzzywuzzy import fuzz"
   ]
  },
  {
   "cell_type": "code",
   "execution_count": 17,
   "id": "4612b3e1",
   "metadata": {},
   "outputs": [
    {
     "data": {
      "text/plain": [
       "79"
      ]
     },
     "execution_count": 17,
     "metadata": {},
     "output_type": "execute_result"
    }
   ],
   "source": [
    "fuzz.ratio('Calle Sinesio Delgado nº 2', 'Sinesio Delgado 2')"
   ]
  },
  {
   "cell_type": "code",
   "execution_count": 30,
   "id": "ecfa3f31",
   "metadata": {},
   "outputs": [],
   "source": [
    "real_address = 'Calle Sinesio Delgado nº 2'"
   ]
  },
  {
   "cell_type": "code",
   "execution_count": 39,
   "id": "f2a3263f",
   "metadata": {},
   "outputs": [
    {
     "name": "stdout",
     "output_type": "stream",
     "text": [
      "Addess: calle sinesio delgado 10\n"
     ]
    }
   ],
   "source": [
    "imputed_address = input('Addess: ')"
   ]
  },
  {
   "cell_type": "code",
   "execution_count": 47,
   "id": "e256f621",
   "metadata": {},
   "outputs": [
    {
     "name": "stdout",
     "output_type": "stream",
     "text": [
      "matched\n"
     ]
    }
   ],
   "source": [
    "if fuzz.token_set_ratio(real_address,imputed_address) > 90:\n",
    "    print('matched')\n",
    "else:\n",
    "    print(fuzz.token_set_ratio(real_address, imputed_address))\n",
    "    print('not matched')"
   ]
  },
  {
   "cell_type": "markdown",
   "id": "6098ca23",
   "metadata": {},
   "source": [
    "#### Conection to other API: Pharmacies."
   ]
  },
  {
   "cell_type": "code",
   "execution_count": 40,
   "id": "00dc40a9",
   "metadata": {},
   "outputs": [],
   "source": [
    "df_pharma = pd.read_excel('../data/turnosmadrid_guardia_2022.xlsx')\n",
    "df_pharma = df_pharma.rename(columns={'Localidad':'Locality', 'Barrio': 'Neighbourhood', 'Fecha':'Date', 'Farmacia':'Pharma ID','Direccion':'Address','Duración':'Duration','Teléfono':'Phone'})"
   ]
  },
  {
   "cell_type": "code",
   "execution_count": 41,
   "id": "98b2ef6f",
   "metadata": {},
   "outputs": [
    {
     "name": "stdout",
     "output_type": "stream",
     "text": [
      "Today's date: [datetime.date(2022, 1, 18)]\n"
     ]
    }
   ],
   "source": [
    "from datetime import date\n",
    "\n",
    "today = [date.today()]\n",
    "print(\"Today's date:\", today)"
   ]
  },
  {
   "cell_type": "code",
   "execution_count": 42,
   "id": "7ad5300d",
   "metadata": {},
   "outputs": [],
   "source": [
    "def row_filter(df, cat_var, cat_values):\n",
    "    df = df[df[cat_var].isin(cat_values)]\n",
    "    return df.reset_index(drop=True)"
   ]
  },
  {
   "cell_type": "code",
   "execution_count": 43,
   "id": "73e6a135",
   "metadata": {},
   "outputs": [],
   "source": [
    "todays_pharma = row_filter(df_pharma, 'Date', today)"
   ]
  },
  {
   "cell_type": "code",
   "execution_count": 44,
   "id": "969ff718",
   "metadata": {},
   "outputs": [
    {
     "data": {
      "text/html": [
       "<div>\n",
       "<style scoped>\n",
       "    .dataframe tbody tr th:only-of-type {\n",
       "        vertical-align: middle;\n",
       "    }\n",
       "\n",
       "    .dataframe tbody tr th {\n",
       "        vertical-align: top;\n",
       "    }\n",
       "\n",
       "    .dataframe thead th {\n",
       "        text-align: right;\n",
       "    }\n",
       "</style>\n",
       "<table border=\"1\" class=\"dataframe\">\n",
       "  <thead>\n",
       "    <tr style=\"text-align: right;\">\n",
       "      <th></th>\n",
       "      <th>Locality</th>\n",
       "      <th>Neighbourhood</th>\n",
       "      <th>Date</th>\n",
       "      <th>Pharma ID</th>\n",
       "      <th>Address</th>\n",
       "      <th>Duration</th>\n",
       "      <th>Phone</th>\n",
       "    </tr>\n",
       "  </thead>\n",
       "  <tbody>\n",
       "    <tr>\n",
       "      <th>0</th>\n",
       "      <td>Madrid</td>\n",
       "      <td>ARAVACA</td>\n",
       "      <td>2022-01-18</td>\n",
       "      <td>1295</td>\n",
       "      <td>CL BLANCA DE CASTILLA,  11</td>\n",
       "      <td>SERVICIO 24 HORAS (DE 9'30 A 9'30)</td>\n",
       "      <td>913576914</td>\n",
       "    </tr>\n",
       "    <tr>\n",
       "      <th>1</th>\n",
       "      <td>Madrid</td>\n",
       "      <td>ARAVACA</td>\n",
       "      <td>2022-01-18</td>\n",
       "      <td>1198</td>\n",
       "      <td>AV VALDEMARIN, 165 LC 4-2</td>\n",
       "      <td>SERVICIO DIURNO (DE 9'30 A 23'00)</td>\n",
       "      <td>913070836</td>\n",
       "    </tr>\n",
       "    <tr>\n",
       "      <th>2</th>\n",
       "      <td>Madrid</td>\n",
       "      <td>ARAVACA</td>\n",
       "      <td>2022-01-18</td>\n",
       "      <td>2619</td>\n",
       "      <td>AV VICTORIA, S/N CEN COM SEXTA AVENIDA</td>\n",
       "      <td>SERVICIO DIURNO (DE 9'30 A 23'00)</td>\n",
       "      <td>913728818</td>\n",
       "    </tr>\n",
       "    <tr>\n",
       "      <th>3</th>\n",
       "      <td>Madrid</td>\n",
       "      <td>ARAVACA</td>\n",
       "      <td>2022-01-18</td>\n",
       "      <td>601</td>\n",
       "      <td>AV EUROPA, 30 (ARAVACA)</td>\n",
       "      <td>SERVICIO DIURNO (DE 9'30 A 23'00)</td>\n",
       "      <td>913513312</td>\n",
       "    </tr>\n",
       "    <tr>\n",
       "      <th>4</th>\n",
       "      <td>Madrid</td>\n",
       "      <td>BARAJAS-ALAMEDA DE OSUNA</td>\n",
       "      <td>2022-01-18</td>\n",
       "      <td>19</td>\n",
       "      <td>AV GENERAL,   1 (BARAJAS)</td>\n",
       "      <td>SERVICIO DIURNO (DE 9'30 A 23'00)</td>\n",
       "      <td>913054120</td>\n",
       "    </tr>\n",
       "  </tbody>\n",
       "</table>\n",
       "</div>"
      ],
      "text/plain": [
       "  Locality             Neighbourhood       Date  Pharma ID  \\\n",
       "0   Madrid                   ARAVACA 2022-01-18       1295   \n",
       "1   Madrid                   ARAVACA 2022-01-18       1198   \n",
       "2   Madrid                   ARAVACA 2022-01-18       2619   \n",
       "3   Madrid                   ARAVACA 2022-01-18        601   \n",
       "4   Madrid  BARAJAS-ALAMEDA DE OSUNA 2022-01-18         19   \n",
       "\n",
       "                                  Address                            Duration  \\\n",
       "0              CL BLANCA DE CASTILLA,  11  SERVICIO 24 HORAS (DE 9'30 A 9'30)   \n",
       "1               AV VALDEMARIN, 165 LC 4-2   SERVICIO DIURNO (DE 9'30 A 23'00)   \n",
       "2  AV VICTORIA, S/N CEN COM SEXTA AVENIDA   SERVICIO DIURNO (DE 9'30 A 23'00)   \n",
       "3                 AV EUROPA, 30 (ARAVACA)   SERVICIO DIURNO (DE 9'30 A 23'00)   \n",
       "4               AV GENERAL,   1 (BARAJAS)   SERVICIO DIURNO (DE 9'30 A 23'00)   \n",
       "\n",
       "       Phone  \n",
       "0  913576914  \n",
       "1  913070836  \n",
       "2  913728818  \n",
       "3  913513312  \n",
       "4  913054120  "
      ]
     },
     "execution_count": 44,
     "metadata": {},
     "output_type": "execute_result"
    }
   ],
   "source": [
    "todays_pharma.head()"
   ]
  },
  {
   "cell_type": "code",
   "execution_count": 45,
   "id": "eaf55dae",
   "metadata": {},
   "outputs": [],
   "source": [
    "def address_match(imputed_address, saved_address):\n",
    "    ratio = fuzz.token_set_ratio(imputed_address,saved_address)\n",
    "    return ratio"
   ]
  },
  {
   "cell_type": "code",
   "execution_count": 46,
   "id": "3d75d1d2",
   "metadata": {},
   "outputs": [
    {
     "name": "stdout",
     "output_type": "stream",
     "text": [
      "Bikes Address: Calle Santa Hortensia nº31\n"
     ]
    }
   ],
   "source": [
    "imputed_address = input('Bikes Address: ')"
   ]
  },
  {
   "cell_type": "code",
   "execution_count": 47,
   "id": "2febc735",
   "metadata": {},
   "outputs": [],
   "source": [
    "df_pharma['Address Match Ratio'] = df_pharma.apply(lambda x: address_match(imputed_address, x['Address']), axis=1)"
   ]
  },
  {
   "cell_type": "code",
   "execution_count": 49,
   "id": "4675a940",
   "metadata": {},
   "outputs": [],
   "source": [
    "#df_pharma.sort_values(by=['Address Match Ratio'], ascending=False)\n",
    "#This does not match at all. May be I can use Google Maps URL near by. "
   ]
  },
  {
   "cell_type": "markdown",
   "id": "bf88a9c4",
   "metadata": {},
   "source": [
    "#### Tkinter"
   ]
  },
  {
   "cell_type": "code",
   "execution_count": 2,
   "id": "c91bcf70",
   "metadata": {},
   "outputs": [],
   "source": [
    "import tkinter as tk"
   ]
  },
  {
   "cell_type": "code",
   "execution_count": 5,
   "id": "9f465bce",
   "metadata": {},
   "outputs": [],
   "source": [
    "window=tk.Tk()\n",
    "window.title(\" Where is my bike? \")\n",
    "window.geometry('600x400')\n",
    "newlabel = tk.Label(text = \" WINDOW CREATED!!!!\")\n",
    "newlabel.grid(column=0,row=0)\n",
    "window.mainloop()"
   ]
  },
  {
   "cell_type": "code",
   "execution_count": null,
   "id": "a4b5d21c",
   "metadata": {},
   "outputs": [],
   "source": []
  }
 ],
 "metadata": {
  "kernelspec": {
   "display_name": "Python [conda env:project1]",
   "language": "python",
   "name": "conda-env-project1-py"
  },
  "language_info": {
   "codemirror_mode": {
    "name": "ipython",
    "version": 3
   },
   "file_extension": ".py",
   "mimetype": "text/x-python",
   "name": "python",
   "nbconvert_exporter": "python",
   "pygments_lexer": "ipython3",
   "version": "3.7.11"
  }
 },
 "nbformat": 4,
 "nbformat_minor": 5
}
