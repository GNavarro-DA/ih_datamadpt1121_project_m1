{
 "cells": [
  {
   "cell_type": "markdown",
   "id": "a45dc081",
   "metadata": {},
   "source": [
    "Just to check time of execution"
   ]
  },
  {
   "cell_type": "code",
   "execution_count": 2,
   "id": "d1bab414",
   "metadata": {},
   "outputs": [
    {
     "name": "stdout",
     "output_type": "stream",
     "text": [
      "CPU times: user 32.6 s, sys: 2.37 s, total: 34.9 s\n",
      "Wall time: 36.7 s\n"
     ]
    },
    {
     "data": {
      "text/html": [
       "<div>\n",
       "<style scoped>\n",
       "    .dataframe tbody tr th:only-of-type {\n",
       "        vertical-align: middle;\n",
       "    }\n",
       "\n",
       "    .dataframe tbody tr th {\n",
       "        vertical-align: top;\n",
       "    }\n",
       "\n",
       "    .dataframe thead th {\n",
       "        text-align: right;\n",
       "    }\n",
       "</style>\n",
       "<table border=\"1\" class=\"dataframe\">\n",
       "  <thead>\n",
       "    <tr style=\"text-align: right;\">\n",
       "      <th></th>\n",
       "      <th>address</th>\n",
       "      <th>distance</th>\n",
       "    </tr>\n",
       "  </thead>\n",
       "  <tbody>\n",
       "    <tr>\n",
       "      <th>252</th>\n",
       "      <td>Calle Santa Hortensia nº 31</td>\n",
       "      <td>435.795195</td>\n",
       "    </tr>\n",
       "    <tr>\n",
       "      <th>198</th>\n",
       "      <td>Calle Suero de Quiñones nº 2</td>\n",
       "      <td>582.740624</td>\n",
       "    </tr>\n",
       "    <tr>\n",
       "      <th>197</th>\n",
       "      <td>Calle Padre Indalecio Hernández nº 1</td>\n",
       "      <td>954.237158</td>\n",
       "    </tr>\n",
       "    <tr>\n",
       "      <th>243</th>\n",
       "      <td>Avenida de Camilo José Cela nº 23</td>\n",
       "      <td>959.712500</td>\n",
       "    </tr>\n",
       "    <tr>\n",
       "      <th>149</th>\n",
       "      <td>Calle María Francisca nº 1</td>\n",
       "      <td>963.232462</td>\n",
       "    </tr>\n",
       "  </tbody>\n",
       "</table>\n",
       "</div>"
      ],
      "text/plain": [
       "                                  address    distance\n",
       "252           Calle Santa Hortensia nº 31  435.795195\n",
       "198          Calle Suero de Quiñones nº 2  582.740624\n",
       "197  Calle Padre Indalecio Hernández nº 1  954.237158\n",
       "243     Avenida de Camilo José Cela nº 23  959.712500\n",
       "149            Calle María Francisca nº 1  963.232462"
      ]
     },
     "execution_count": 2,
     "metadata": {},
     "output_type": "execute_result"
    }
   ],
   "source": [
    "%%time\n",
    "\n",
    "import requests\n",
    "import pandas as pd\n",
    "from shapely.geometry import Point\n",
    "import geopandas as gpd\n",
    "import re\n",
    "\n",
    "url_datos_madrid = 'https://datos.madrid.es/egob/catalogo/212769-0-atencion-medica.json'\n",
    "response = requests.get(url_datos_madrid)\n",
    "\n",
    "datos_json = response.json()\n",
    "\n",
    "df_places = pd.json_normalize(datos_json['@graph'])\n",
    "pd.set_option('display.max_colwidth',50)\n",
    "\n",
    "df_bikes = pd.read_csv('../data/bicimad_stations.csv')\n",
    "\n",
    "\n",
    "def lat(x):\n",
    "    x1 = re.sub('[[]|[]]','',x)\n",
    "    x2 = re.split('[,]\\s',x1)\n",
    "    return float(x2[1])\n",
    "\n",
    "    \n",
    "def long(x):\n",
    "    x1 = re.sub('[[]|[]]','',x)\n",
    "    x2 = re.split('[,]\\s',x1)\n",
    "    return float(x2[0])\n",
    "    \n",
    "\n",
    "df_bikes['Latitude'] = df_bikes.apply(lambda x: lat(x['geometry_coordinates']),axis=1)\n",
    "df_bikes['Longitude'] = df_bikes.apply(lambda x: long(x['geometry_coordinates']),axis=1)\n",
    "\n",
    "def to_mercator(lat, long):\n",
    "    # transform latitude/longitude data in degrees to pseudo-mercator coordinates in metres\n",
    "    c = gpd.GeoSeries([Point(lat, long)], crs=4326)\n",
    "    c = c.to_crs(3857)\n",
    "    return c\n",
    "\n",
    "df_places['location_place'] = df_places.apply(lambda x: to_mercator(x['location.latitude'], x['location.longitude']),axis=1)\n",
    "df_bikes['location_bikes'] = df_bikes.apply(lambda x: to_mercator(x['Latitude'], x['Longitude']),axis=1)\n",
    "\n",
    "df_places_bikes = df_places.assign(key=0).merge(df_bikes.assign(key=0), how='left', on='key')\n",
    "\n",
    "def distance_meters(loc_start, loc_finish):\n",
    "    # return the distance in metres between to latitude/longitude pair point in degrees (i.e.: 40.392436 / -3.6994487)\n",
    "    return loc_start.distance(loc_finish)\n",
    "\n",
    "df_places_bikes['distance'] = df_places_bikes.apply(lambda x: distance_meters(x['location_place'], x['location_bikes']),axis=1)\n",
    "\n",
    "def row_filter(df, cat_var, cat_values):\n",
    "    df = df[df[cat_var].isin(cat_values)]\n",
    "    return df.reset_index(drop=True)\n",
    "\n",
    "place_selected = ['Centro Concertado de Atención a las Adicciones (CCAD) Cáritas Madrid']\n",
    "\n",
    "result = row_filter(df_places_bikes,'title',place_selected).sort_values(by='distance', ascending=True)[['address','distance']]\n",
    "\n",
    "result.head()"
   ]
  },
  {
   "cell_type": "code",
   "execution_count": 21,
   "id": "ad8a91ee",
   "metadata": {},
   "outputs": [
    {
     "name": "stdout",
     "output_type": "stream",
     "text": [
      "La estación BiciMAD más cercana está en:  Calle Santa Hortensia nº 31 . Se encuentra a  435.8 metros \n",
      " La siguiente se encuentra en  Calle Suero de Quiñones nº 2 a  582.7 metros\n"
     ]
    }
   ],
   "source": [
    "print('La estación BiciMAD más cercana está en: ', result.iloc[0]['address'], '. Se encuentra a ', round(result.iloc[0]['distance'],1), 'metros', '\\n', 'La siguiente se encuentra en ', result.iloc[1]['address'], 'a ', round(result.iloc[1]['distance'],1), 'metros')"
   ]
  },
  {
   "cell_type": "code",
   "execution_count": null,
   "id": "57b2b4ab",
   "metadata": {},
   "outputs": [],
   "source": []
  },
  {
   "cell_type": "code",
   "execution_count": null,
   "id": "edcc740a",
   "metadata": {},
   "outputs": [],
   "source": []
  }
 ],
 "metadata": {
  "kernelspec": {
   "display_name": "Python [conda env:project1]",
   "language": "python",
   "name": "conda-env-project1-py"
  },
  "language_info": {
   "codemirror_mode": {
    "name": "ipython",
    "version": 3
   },
   "file_extension": ".py",
   "mimetype": "text/x-python",
   "name": "python",
   "nbconvert_exporter": "python",
   "pygments_lexer": "ipython3",
   "version": "3.7.11"
  }
 },
 "nbformat": 4,
 "nbformat_minor": 5
}
